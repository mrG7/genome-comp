{
 "cells": [
  {
   "cell_type": "code",
   "execution_count": 19,
   "metadata": {
    "collapsed": false
   },
   "outputs": [],
   "source": [
    "%matplotlib inline\n",
    "\n",
    "import pandas as pd\n",
    "import matplotlib.pyplot as plt\n",
    "import numpy.random as npr"
   ]
  },
  {
   "cell_type": "code",
   "execution_count": 3,
   "metadata": {
    "collapsed": false
   },
   "outputs": [],
   "source": [
    "chr22_full = pd.read_csv(\"chr22_chewed.txt\",sep=None,engine = 'python')"
   ]
  },
  {
   "cell_type": "code",
   "execution_count": 75,
   "metadata": {
    "collapsed": false
   },
   "outputs": [
    {
     "data": {
      "text/html": [
       "<div>\n",
       "<table border=\"1\" class=\"dataframe\">\n",
       "  <thead>\n",
       "    <tr style=\"text-align: right;\">\n",
       "      <th></th>\n",
       "      <th>chromosome</th>\n",
       "      <th>position</th>\n",
       "      <th>original</th>\n",
       "      <th>variant</th>\n",
       "      <th>original_count</th>\n",
       "      <th>variant_count</th>\n",
       "      <th>alt_variant_count</th>\n",
       "    </tr>\n",
       "  </thead>\n",
       "  <tbody>\n",
       "    <tr>\n",
       "      <th>599311</th>\n",
       "      <td>22</td>\n",
       "      <td>36405231</td>\n",
       "      <td>C</td>\n",
       "      <td>T</td>\n",
       "      <td>2495</td>\n",
       "      <td>9</td>\n",
       "      <td>0</td>\n",
       "    </tr>\n",
       "    <tr>\n",
       "      <th>432071</th>\n",
       "      <td>22</td>\n",
       "      <td>30955321</td>\n",
       "      <td>C</td>\n",
       "      <td>T</td>\n",
       "      <td>228</td>\n",
       "      <td>1002</td>\n",
       "      <td>1274</td>\n",
       "    </tr>\n",
       "    <tr>\n",
       "      <th>1097677</th>\n",
       "      <td>22</td>\n",
       "      <td>51050595</td>\n",
       "      <td>G</td>\n",
       "      <td>A</td>\n",
       "      <td>2450</td>\n",
       "      <td>50</td>\n",
       "      <td>4</td>\n",
       "    </tr>\n",
       "    <tr>\n",
       "      <th>1002291</th>\n",
       "      <td>22</td>\n",
       "      <td>48638809</td>\n",
       "      <td>T</td>\n",
       "      <td>C</td>\n",
       "      <td>1873</td>\n",
       "      <td>549</td>\n",
       "      <td>82</td>\n",
       "    </tr>\n",
       "    <tr>\n",
       "      <th>792162</th>\n",
       "      <td>22</td>\n",
       "      <td>42787101</td>\n",
       "      <td>T</td>\n",
       "      <td>A</td>\n",
       "      <td>1937</td>\n",
       "      <td>521</td>\n",
       "      <td>46</td>\n",
       "    </tr>\n",
       "  </tbody>\n",
       "</table>\n",
       "</div>"
      ],
      "text/plain": [
       "         chromosome  position original variant  original_count  variant_count  \\\n",
       "599311           22  36405231        C       T            2495              9   \n",
       "432071           22  30955321        C       T             228           1002   \n",
       "1097677          22  51050595        G       A            2450             50   \n",
       "1002291          22  48638809        T       C            1873            549   \n",
       "792162           22  42787101        T       A            1937            521   \n",
       "\n",
       "         alt_variant_count  \n",
       "599311                   0  \n",
       "432071                1274  \n",
       "1097677                  4  \n",
       "1002291                 82  \n",
       "792162                  46  "
      ]
     },
     "execution_count": 75,
     "metadata": {},
     "output_type": "execute_result"
    }
   ],
   "source": [
    "chr22_sampled = chr22_full.sample(frac=0.01)\n",
    "chr22_sampled.head(5)"
   ]
  },
  {
   "cell_type": "code",
   "execution_count": 76,
   "metadata": {
    "collapsed": false
   },
   "outputs": [
    {
     "data": {
      "text/html": [
       "<div>\n",
       "<table border=\"1\" class=\"dataframe\">\n",
       "  <thead>\n",
       "    <tr style=\"text-align: right;\">\n",
       "      <th></th>\n",
       "      <th>chromosome</th>\n",
       "      <th>position</th>\n",
       "      <th>original_count</th>\n",
       "      <th>variant_count</th>\n",
       "      <th>alt_variant_count</th>\n",
       "    </tr>\n",
       "  </thead>\n",
       "  <tbody>\n",
       "    <tr>\n",
       "      <th>count</th>\n",
       "      <td>11035</td>\n",
       "      <td>11035.000000</td>\n",
       "      <td>11035.000000</td>\n",
       "      <td>11035.000000</td>\n",
       "      <td>11035.000000</td>\n",
       "    </tr>\n",
       "    <tr>\n",
       "      <th>mean</th>\n",
       "      <td>22</td>\n",
       "      <td>34494110.840326</td>\n",
       "      <td>2370.588854</td>\n",
       "      <td>85.476303</td>\n",
       "      <td>47.934844</td>\n",
       "    </tr>\n",
       "    <tr>\n",
       "      <th>std</th>\n",
       "      <td>0</td>\n",
       "      <td>10255130.102729</td>\n",
       "      <td>420.335601</td>\n",
       "      <td>238.063849</td>\n",
       "      <td>233.730952</td>\n",
       "    </tr>\n",
       "    <tr>\n",
       "      <th>min</th>\n",
       "      <td>22</td>\n",
       "      <td>16053387.000000</td>\n",
       "      <td>0.000000</td>\n",
       "      <td>0.000000</td>\n",
       "      <td>0.000000</td>\n",
       "    </tr>\n",
       "    <tr>\n",
       "      <th>25%</th>\n",
       "      <td>22</td>\n",
       "      <td>25483126.000000</td>\n",
       "      <td>2486.000000</td>\n",
       "      <td>1.000000</td>\n",
       "      <td>0.000000</td>\n",
       "    </tr>\n",
       "    <tr>\n",
       "      <th>50%</th>\n",
       "      <td>22</td>\n",
       "      <td>34783763.000000</td>\n",
       "      <td>2502.000000</td>\n",
       "      <td>2.000000</td>\n",
       "      <td>0.000000</td>\n",
       "    </tr>\n",
       "    <tr>\n",
       "      <th>75%</th>\n",
       "      <td>22</td>\n",
       "      <td>43751423.000000</td>\n",
       "      <td>2503.000000</td>\n",
       "      <td>17.000000</td>\n",
       "      <td>0.000000</td>\n",
       "    </tr>\n",
       "    <tr>\n",
       "      <th>max</th>\n",
       "      <td>22</td>\n",
       "      <td>51234262.000000</td>\n",
       "      <td>2504.000000</td>\n",
       "      <td>1778.000000</td>\n",
       "      <td>2504.000000</td>\n",
       "    </tr>\n",
       "  </tbody>\n",
       "</table>\n",
       "</div>"
      ],
      "text/plain": [
       "       chromosome         position  original_count  variant_count  \\\n",
       "count       11035     11035.000000    11035.000000   11035.000000   \n",
       "mean           22  34494110.840326     2370.588854      85.476303   \n",
       "std             0  10255130.102729      420.335601     238.063849   \n",
       "min            22  16053387.000000        0.000000       0.000000   \n",
       "25%            22  25483126.000000     2486.000000       1.000000   \n",
       "50%            22  34783763.000000     2502.000000       2.000000   \n",
       "75%            22  43751423.000000     2503.000000      17.000000   \n",
       "max            22  51234262.000000     2504.000000    1778.000000   \n",
       "\n",
       "       alt_variant_count  \n",
       "count       11035.000000  \n",
       "mean           47.934844  \n",
       "std           233.730952  \n",
       "min             0.000000  \n",
       "25%             0.000000  \n",
       "50%             0.000000  \n",
       "75%             0.000000  \n",
       "max          2504.000000  "
      ]
     },
     "execution_count": 76,
     "metadata": {},
     "output_type": "execute_result"
    }
   ],
   "source": [
    "chr22_sampled.describe()"
   ]
  },
  {
   "cell_type": "code",
   "execution_count": 88,
   "metadata": {
    "collapsed": true
   },
   "outputs": [],
   "source": [
    "def variant_proportion(row):\n",
    "    try:\n",
    "        total_count = float(row['original_count'] + row['variant_count'] + row['alt_variant_count'])\n",
    "        proportion = float(row['variant_count'])/total_count\n",
    "    except:\n",
    "        proportion = float(0.0)\n",
    "    return proportion\n",
    "\n",
    "def alt_variant_proportion(row):\n",
    "    try:\n",
    "        total_count = float(row['original_count'] + row['variant_count'] + row['alt_variant_count'])\n",
    "        proportion = float(row['alt_variant_count'])/total_count\n",
    "    except:\n",
    "        proportion = float(0.0)\n",
    "    return proportion\n",
    "\n",
    "def total_variant_proportion(row):\n",
    "    try:\n",
    "        total_count = float(row['original_count'] + row['variant_count'] + row['alt_variant_count'])\n",
    "        total_variants = float(row['variant_count']+row['alt_variant_count'])\n",
    "        proportion = total_variants/total_count\n",
    "    except:\n",
    "        proportion = float(0.0)\n",
    "    return proportion"
   ]
  },
  {
   "cell_type": "code",
   "execution_count": 89,
   "metadata": {
    "collapsed": false
   },
   "outputs": [
    {
     "data": {
      "text/html": [
       "<div>\n",
       "<table border=\"1\" class=\"dataframe\">\n",
       "  <thead>\n",
       "    <tr style=\"text-align: right;\">\n",
       "      <th></th>\n",
       "      <th>chromosome</th>\n",
       "      <th>position</th>\n",
       "      <th>original</th>\n",
       "      <th>variant</th>\n",
       "      <th>original_count</th>\n",
       "      <th>variant_count</th>\n",
       "      <th>alt_variant_count</th>\n",
       "      <th>variant_prop</th>\n",
       "      <th>alt_variant_prop</th>\n",
       "      <th>total_variant_prop</th>\n",
       "    </tr>\n",
       "  </thead>\n",
       "  <tbody>\n",
       "    <tr>\n",
       "      <th>599311</th>\n",
       "      <td>22</td>\n",
       "      <td>36405231</td>\n",
       "      <td>C</td>\n",
       "      <td>T</td>\n",
       "      <td>2495</td>\n",
       "      <td>9</td>\n",
       "      <td>0</td>\n",
       "      <td>0.003594</td>\n",
       "      <td>0.000000</td>\n",
       "      <td>0.003594</td>\n",
       "    </tr>\n",
       "    <tr>\n",
       "      <th>432071</th>\n",
       "      <td>22</td>\n",
       "      <td>30955321</td>\n",
       "      <td>C</td>\n",
       "      <td>T</td>\n",
       "      <td>228</td>\n",
       "      <td>1002</td>\n",
       "      <td>1274</td>\n",
       "      <td>0.400160</td>\n",
       "      <td>0.508786</td>\n",
       "      <td>0.908946</td>\n",
       "    </tr>\n",
       "    <tr>\n",
       "      <th>1097677</th>\n",
       "      <td>22</td>\n",
       "      <td>51050595</td>\n",
       "      <td>G</td>\n",
       "      <td>A</td>\n",
       "      <td>2450</td>\n",
       "      <td>50</td>\n",
       "      <td>4</td>\n",
       "      <td>0.019968</td>\n",
       "      <td>0.001597</td>\n",
       "      <td>0.021565</td>\n",
       "    </tr>\n",
       "    <tr>\n",
       "      <th>1002291</th>\n",
       "      <td>22</td>\n",
       "      <td>48638809</td>\n",
       "      <td>T</td>\n",
       "      <td>C</td>\n",
       "      <td>1873</td>\n",
       "      <td>549</td>\n",
       "      <td>82</td>\n",
       "      <td>0.219249</td>\n",
       "      <td>0.032748</td>\n",
       "      <td>0.251997</td>\n",
       "    </tr>\n",
       "    <tr>\n",
       "      <th>792162</th>\n",
       "      <td>22</td>\n",
       "      <td>42787101</td>\n",
       "      <td>T</td>\n",
       "      <td>A</td>\n",
       "      <td>1937</td>\n",
       "      <td>521</td>\n",
       "      <td>46</td>\n",
       "      <td>0.208067</td>\n",
       "      <td>0.018371</td>\n",
       "      <td>0.226438</td>\n",
       "    </tr>\n",
       "  </tbody>\n",
       "</table>\n",
       "</div>"
      ],
      "text/plain": [
       "         chromosome  position original variant  original_count  variant_count  \\\n",
       "599311           22  36405231        C       T            2495              9   \n",
       "432071           22  30955321        C       T             228           1002   \n",
       "1097677          22  51050595        G       A            2450             50   \n",
       "1002291          22  48638809        T       C            1873            549   \n",
       "792162           22  42787101        T       A            1937            521   \n",
       "\n",
       "         alt_variant_count  variant_prop  alt_variant_prop  total_variant_prop  \n",
       "599311                   0      0.003594          0.000000            0.003594  \n",
       "432071                1274      0.400160          0.508786            0.908946  \n",
       "1097677                  4      0.019968          0.001597            0.021565  \n",
       "1002291                 82      0.219249          0.032748            0.251997  \n",
       "792162                  46      0.208067          0.018371            0.226438  "
      ]
     },
     "execution_count": 89,
     "metadata": {},
     "output_type": "execute_result"
    }
   ],
   "source": [
    "## Adding new columns that include variant proportion and alternate variant proportion\n",
    "\n",
    "variant_prop = chr22_sampled.apply(variant_proportion,axis=1)\n",
    "alt_variant_prop = chr22_sampled.apply(alt_variant_proportion,axis=1)\n",
    "total_variant_prop = chr22_sampled.apply(total_variant_proportion,axis=1)\n",
    "pd.options.mode.chained_assignment = None ## need this or else you get a warning\n",
    "chr22_sampled['variant_prop'] = variant_prop\n",
    "chr22_sampled['alt_variant_prop'] = alt_variant_prop\n",
    "chr22_sampled['total_variant_prop'] = total_variant_prop\n",
    "chr22_sampled.head(5)"
   ]
  },
  {
   "cell_type": "code",
   "execution_count": 90,
   "metadata": {
    "collapsed": false
   },
   "outputs": [
    {
     "data": {
      "text/plain": [
       "<matplotlib.axes._subplots.AxesSubplot at 0x1157da990>"
      ]
     },
     "execution_count": 90,
     "metadata": {},
     "output_type": "execute_result"
    },
    {
     "data": {
      "image/png": "[encoded data removed]",
      "text/plain": [
       "<matplotlib.figure.Figure at 0x11101dd10>"
      ]
     },
     "metadata": {},
     "output_type": "display_data"
    }
   ],
   "source": [
    "chr22_sampled['position'].hist()"
   ]
  },
  {
   "cell_type": "code",
   "execution_count": 91,
   "metadata": {
    "collapsed": false
   },
   "outputs": [
    {
     "data": {
      "text/plain": [
       "<matplotlib.axes._subplots.AxesSubplot at 0x110b66790>"
      ]
     },
     "execution_count": 91,
     "metadata": {},
     "output_type": "execute_result"
    },
    {
     "data": {
      "image/png": "[encoded data removed]",
      "text/plain": [
       "<matplotlib.figure.Figure at 0x110b55650>"
      ]
     },
     "metadata": {},
     "output_type": "display_data"
    }
   ],
   "source": [
    "chr22_sampled['original_count'].hist()"
   ]
  },
  {
   "cell_type": "code",
   "execution_count": 96,
   "metadata": {
    "collapsed": false
   },
   "outputs": [
    {
     "data": {
      "text/plain": [
       "<matplotlib.axes._subplots.AxesSubplot at 0x109e663d0>"
      ]
     },
     "execution_count": 96,
     "metadata": {},
     "output_type": "execute_result"
    },
    {
     "data": {
      "image/png": "[encoded data removed]",
      "text/plain": [
       "<matplotlib.figure.Figure at 0x10b32bd90>"
      ]
     },
     "metadata": {},
     "output_type": "display_data"
    }
   ],
   "source": [
    "chr22_sampled['total_variant_prop'].hist(bins = 100)"
   ]
  },
  {
   "cell_type": "code",
   "execution_count": 94,
   "metadata": {
    "collapsed": false
   },
   "outputs": [
    {
     "data": {
      "image/png": "[encoded data removed]",
      "text/plain": [
       "<matplotlib.figure.Figure at 0x10df02c90>"
      ]
     },
     "metadata": {},
     "output_type": "display_data"
    }
   ],
   "source": [
    "chr22_sampled.plot(kind='scatter', x='position', y='total_variant_prop');"
   ]
  },
  {
   "cell_type": "code",
   "execution_count": null,
   "metadata": {
    "collapsed": true
   },
   "outputs": [],
   "source": []
  }
 ],
 "metadata": {
  "kernelspec": {
   "display_name": "Python 2",
   "language": "python",
   "name": "python2"
  },
  "language_info": {
   "codemirror_mode": {
    "name": "ipython",
    "version": 2
   },
   "file_extension": ".py",
   "mimetype": "text/x-python",
   "name": "python",
   "nbconvert_exporter": "python",
   "pygments_lexer": "ipython2",
   "version": "2.7.10"
  }
 },
 "nbformat": 4,
 "nbformat_minor": 0
}
